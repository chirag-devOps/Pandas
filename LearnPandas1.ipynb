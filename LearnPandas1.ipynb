{
  "nbformat": 4,
  "nbformat_minor": 0,
  "metadata": {
    "colab": {
      "name": "LearnPandas.ipynb",
      "provenance": [],
      "collapsed_sections": [],
      "authorship_tag": "ABX9TyMR2G/lr00PMwKobfASIipM",
      "include_colab_link": true
    },
    "kernelspec": {
      "name": "python3",
      "display_name": "Python 3"
    }
  },
  "cells": [
    {
      "cell_type": "markdown",
      "metadata": {
        "id": "view-in-github",
        "colab_type": "text"
      },
      "source": [
        "<a href=\"https://colab.research.google.com/github/chirag-devOps/Pandas/blob/master/LearnPandas1.ipynb\" target=\"_parent\"><img src=\"https://colab.research.google.com/assets/colab-badge.svg\" alt=\"Open In Colab\"/></a>"
      ]
    },
    {
      "cell_type": "code",
      "metadata": {
        "id": "cQaohO_k8O2J"
      },
      "source": [
        "import pandas as pd"
      ],
      "execution_count": 5,
      "outputs": []
    },
    {
      "cell_type": "markdown",
      "metadata": {
        "id": "CIKHWKJ79F7d"
      },
      "source": [
        "Creating dataframe from list of string"
      ]
    },
    {
      "cell_type": "code",
      "metadata": {
        "id": "fLBjjJu78ss-",
        "outputId": "62a98170-b76e-4840-a519-ac11dbf13ad3",
        "colab": {
          "base_uri": "https://localhost:8080/",
          "height": 127
        }
      },
      "source": [
        "list = ['raj','john','sunil','sam','samuel']\n",
        "df = pd.DataFrame(list)\n",
        "print(df)"
      ],
      "execution_count": 9,
      "outputs": [
        {
          "output_type": "stream",
          "text": [
            "        0\n",
            "0     raj\n",
            "1    john\n",
            "2   sunil\n",
            "3     sam\n",
            "4  samuel\n"
          ],
          "name": "stdout"
        }
      ]
    },
    {
      "cell_type": "markdown",
      "metadata": {
        "id": "mXwi2MBA9Wpu"
      },
      "source": [
        "Creating dataframe from a dictionary"
      ]
    },
    {
      "cell_type": "code",
      "metadata": {
        "id": "47miqXLM9WOE",
        "outputId": "3706ff1d-caae-4047-fe35-4f27582aa1a9",
        "colab": {
          "base_uri": "https://localhost:8080/",
          "height": 146
        }
      },
      "source": [
        "dictdata = {'Name':['raj','john','sunil','sameera','samuel','monica'],\n",
        "            'Age':[22,55,22,64,36,45],\n",
        "            'Sex':['M','M','M','F','M','F'],\n",
        "            'City':['Moscow','Delhi','Sydney','Paris','London','Auckland']}\n",
        "df_dict = pd.DataFrame(dictdata)\n",
        "# print specific attributes\n",
        "print(df_dict[['Name','Age','Sex']])"
      ],
      "execution_count": 13,
      "outputs": [
        {
          "output_type": "stream",
          "text": [
            "      Name  Age Sex\n",
            "0      raj   22   M\n",
            "1     john   55   M\n",
            "2    sunil   22   M\n",
            "3  sameera   64   F\n",
            "4   samuel   36   M\n",
            "5   monica   45   F\n"
          ],
          "name": "stdout"
        }
      ]
    }
  ]
}